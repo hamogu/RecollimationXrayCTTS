{
 "metadata": {
  "name": "jet_recol_shocks",
  "signature": "sha256:2fa1be85b9c9dd06384bec69d8a687335c901a201ce920fecc419cd0c66346fc"
 },
 "nbformat": 3,
 "nbformat_minor": 0,
 "worksheets": [
  {
   "cells": [
    {
     "cell_type": "heading",
     "level": 3,
     "metadata": {},
     "source": [
      "Setup, load modules, etc."
     ]
    },
    {
     "cell_type": "code",
     "collapsed": false,
     "input": [
      "import numpy as np\n",
      "from scipy.integrate import odeint\n",
      "from scipy.interpolate import interp1d\n",
      "from matplotlib import pyplot as plt\n",
      "\n",
      "from stellarwindshock import StellarWindShock, HotStellarWindShock, ConstantPres, PowerPres, ExpPres"
     ],
     "language": "python",
     "metadata": {},
     "outputs": []
    },
    {
     "cell_type": "code",
     "collapsed": false,
     "input": [
      "plotdir = '../figures/'"
     ],
     "language": "python",
     "metadata": {},
     "outputs": []
    },
    {
     "cell_type": "code",
     "collapsed": false,
     "input": [
      "def set_aspect_equal(ax):\n",
      "    '''change x_lim so that aspect=equal\n",
      "\n",
      "    In contrast to ``ax.set_aspect(adjustable='datalim')``, this function does not\n",
      "    center the data on the x-axes, instead, the left limit of the x-axis is \n",
      "    always 0.\n",
      "    \n",
      "    Parameters\n",
      "    ----------\n",
      "    ax : axis instance\n",
      "    '''\n",
      "    figW, figH = ax.get_figure().get_size_inches()\n",
      "    fig_aspect = figH / figW\n",
      "    box = ax.get_position()\n",
      "    ax.set_ylim([0, None])\n",
      "    ax.set_xlim([0, ax.get_ylim()[1] / (figH * box.height) * (figW * box.width)])"
     ],
     "language": "python",
     "metadata": {},
     "outputs": []
    },
    {
     "cell_type": "heading",
     "level": 3,
     "metadata": {},
     "source": [
      "Test the code"
     ]
    },
    {
     "cell_type": "markdown",
     "metadata": {},
     "source": [
      "In order to check that the equations that are developed in the paper are correctly implemented, we solve them here for a simple test problem."
     ]
    },
    {
     "cell_type": "code",
     "collapsed": false,
     "input": [
      "#ode = StellarWindShock(lambda z: 1e-7*(20-z+1), 5e7, 12e14)\n",
      "ode = StellarWindShock(ConstantPres(1e-6), 1e7, 12e14)\n",
      "z = np.arange(0, ode.start(), .01)\n",
      "ode.solve(ode.start(), z)\n",
      "ode.plot()\n",
      "fig = plt.gcf()\n",
      "fig.axes[2].set_xlim([0,110])\n",
      "fig.axes[0].set_xlim([-1,1])"
     ],
     "language": "python",
     "metadata": {},
     "outputs": []
    },
    {
     "cell_type": "heading",
     "level": 3,
     "metadata": {},
     "source": [
      "Evaluating the position and properties of the shock front"
     ]
    },
    {
     "cell_type": "code",
     "collapsed": false,
     "input": [
      "z = np.arange(0,15., .01)"
     ],
     "language": "python",
     "metadata": {},
     "outputs": []
    },
    {
     "cell_type": "code",
     "collapsed": false,
     "input": [
      "pexp = ExpPres(1e-7, 10., p_inf = 1e-7)\n",
      "\n",
      "ode = StellarWindShock(ConstantPres(1e-7), 5e7, 12e14)\n",
      "ode.solve(4, z)\n",
      "ode.plot()\n",
      "fig = plt.gcf()\n",
      "ax = fig.axes[1]\n",
      "ax.set_xlim([0,15])\n",
      "ax = fig.axes[0]\n",
      "ax.set_xlim([1e-8, 1e-6])"
     ],
     "language": "python",
     "metadata": {},
     "outputs": []
    },
    {
     "cell_type": "code",
     "collapsed": false,
     "input": [
      "grid = np.mgrid[0:15:0.1,0:12:.1]\n",
      "plt.contourf(grid[0,:,:], grid[1,:,:], ode(grid[0,:,:], grid[1,:,:]),[-1e3,-1,0,1,10,1e3],\n",
      "             colors=['b','g','y','orange','r'])\n",
      "plt.colorbar()\n",
      "#plt.plot(ode.sphereofwind(grid[1,0,:]), grid[1,0,:],'k')"
     ],
     "language": "python",
     "metadata": {},
     "outputs": []
    },
    {
     "cell_type": "code",
     "collapsed": false,
     "input": [
      "pext = PowerPres(1e-7, 1e-6, 3, 5.)\n",
      "ode = StellarWindShock(pext, 5e7, 12e14)\n",
      "\n",
      "ode.solve(1, z)\n",
      "ode.plot()"
     ],
     "language": "python",
     "metadata": {},
     "outputs": []
    },
    {
     "cell_type": "heading",
     "level": 2,
     "metadata": {},
     "source": [
      "Studies for a single parameter"
     ]
    },
    {
     "cell_type": "code",
     "collapsed": false,
     "input": [
      "p_fiducial = ExpPres(5e-4, 2, p_inf = 5e-6)\n",
      "v_fiducial = 6e7\n",
      "mdot_fiducial = 6.3376e17\n",
      "omega_fiducial = 0.01"
     ],
     "language": "python",
     "metadata": {},
     "outputs": []
    },
    {
     "cell_type": "code",
     "collapsed": false,
     "input": [
      "ode = StellarWindShock(p_fiducial, v_fiducial, mdot_fiducial)\n",
      "z = np.arange(0,50., .01)\n",
      "\n",
      "fig, axes = StellarWindShock.setup_plot()\n",
      "     \n",
      "for i, (omega0,c,l) in enumerate(zip([omega_fiducial, 0.1,2, ode.start()], 'rgbk', \n",
      "                                     ['solid', 'dashed', 'dashdot', 'dotted'] )):\n",
      "    ode = StellarWindShock(p_fiducial, v_fiducial, mdot_fiducial)\n",
      "    ode.solve(omega0, z)\n",
      "    ode.plot_params(axes, label='$\\\\omega_0={0:5.2f}$ AU'.format(omega0), \n",
      "                    bins=np.arange(0,4.51,.5), color=c, linestyle=l, linewidth=2)\n",
      "\n",
      "axes[3].set_ylim([0, None])\n",
      "axes[3].set_xlim([0, 5])\n",
      "axes[0].legend(prop={'size': 'medium'}, labelspacing=.2)\n",
      "axes[0].set_ylim([0,46])\n",
      "axes[0].set_xlim([3e-6,3e-3])\n",
      "set_aspect_equal(axes[1])\n",
      "\n",
      "fig.savefig(plotdir + 'omega_0/omega_0.png', dpi=600)\n",
      "fig.savefig(plotdir + 'omega_0/omega_0.eps')"
     ],
     "language": "python",
     "metadata": {},
     "outputs": []
    },
    {
     "cell_type": "markdown",
     "metadata": {},
     "source": [
      "The starting point of the integration really makes a difference. If the radius of the stellar wind zone of influence is larger initially, the shock will encompass a much bigger volume, reach to larger heights and, at least for this presure profile, reach much larger velocities and thus X-ray temperatures."
     ]
    },
    {
     "cell_type": "code",
     "collapsed": false,
     "input": [
      "z = np.arange(0,50., .01)\n",
      "\n",
      "fig = plt.figure(figsize=(8,5.5*0.66))\n",
      "ax1 = fig.add_axes([.06,.14,.21,.42])\n",
      "ax2 = fig.add_axes([.27,.14,.21,.42], sharey = ax1)\n",
      "ax3 = fig.add_axes([.48,.14,.21,.42], sharey = ax1)\n",
      "ax4 = fig.add_axes([.78,.14,.21,.42])\n",
      "ax11 = fig.add_axes([.06,.56,.21,.42], sharey=ax1, sharex=ax1)\n",
      "ax21 = fig.add_axes([.27,.56,.21,.42], sharey = ax11, sharex=ax2)\n",
      "ax31 = fig.add_axes([.48,.56,.21,.42], sharey = ax11, sharex=ax3)\n",
      "ax41 = fig.add_axes([.78,.56,.21,.42], sharex=ax4)\n",
      "\n",
      "plt.setp([a.get_yticklabels() for a in [ax2, ax3, ax21, ax31]], visible=False)\n",
      "plt.setp([a.get_xticklabels() for a in [ax11, ax21,ax31, ax41]], visible=False)\n",
      "\n",
      "#ax1.set_title('External presure')\n",
      "ax1.set_ylabel('Height (AU)')\n",
      "ax11.set_ylabel('Height (AU)')\n",
      "ax1.set_xlabel(r'$P_{\\mathrm{ext}}$ (Ba)')\n",
      "ax1.set_xscale('log')\n",
      "ax11.set_xscale('log')\n",
      "        \n",
      "#ax2.set_title('Shock location')\n",
      "ax2.set_xlabel('shock position $\\omega$ (AU)')\n",
      "\n",
      "#ax3.set_title('Shock velocity')\n",
      "ax3.set_xlabel('$v_0$ (km s$^{-1}$)')\n",
      "        \n",
      "#ax4.set_title('Post-Shock temperature')\n",
      "ax4.set_xlabel(r'$T_{\\mathrm{post-shock}}$ (MK)')\n",
      "ax4.set_ylabel('mass fraction per bin')\n",
      "ax41.set_ylabel('mass fraction per bin')\n",
      "     \n",
      "for h,c,l in zip([0.5,2,5,10], 'rgbk', ['solid', 'dashed', 'dashdot', 'dotted'] ):\n",
      "    pexp = ExpPres(5e-4, h, p_inf = 5e-6)\n",
      "    ode = StellarWindShock(pexp, v_fiducial, mdot_fiducial)\n",
      "    ode.solve(omega_fiducial, z)\n",
      "    ode.plot_params([ax11,ax21,ax31,ax41], label='$h={0}$ AU'.format(h), \n",
      "                    bins=np.arange(0,4.,.5), color=c, linestyle=l, linewidth=2)\n",
      "\n",
      "ax21.legend(prop={'size':'medium'})\n",
      "    \n",
      "for h,c,l in zip([0.5,2,5,10], 'rgbk', ['solid', 'dashed', 'dashdot', 'dotted'] ):\n",
      "    pexp = ExpPres(5e-4/h**1.5, h, p_inf = 5e-6)\n",
      "    ode = StellarWindShock(pexp, v_fiducial, mdot_fiducial)\n",
      "    ode.solve(omega_fiducial, z)\n",
      "    ode.plot_params([ax1,ax2,ax3,ax4], label='$h={0}$ AU'.format(h), \n",
      "                    bins=np.arange(0,4.51,.5), color=c, linestyle=l, linewidth=2)\n",
      "\n",
      "ax3.set_ylim([0, None])\n",
      "ax2.set_xlim([0,None])\n",
      "ax1.set_ylim([0,49])\n",
      "ax1.set_xlim([3e-6,3e-3])\n",
      "ax4.set_ylim([0,.89])\n",
      "ax4.set_xlim([0,5])\n",
      "set_aspect_equal(ax2)\n",
      "#set_aspect_equal(ax21)\n",
      "fig.savefig(plotdir + 'P_ext/P_ext.png', dpi=600)\n",
      "fig.savefig(plotdir + 'P_ext/P_ext.eps')"
     ],
     "language": "python",
     "metadata": {},
     "outputs": []
    },
    {
     "cell_type": "code",
     "collapsed": false,
     "input": [
      "pexp = ExpPres(1e-6, 2, p_inf = 1e-8)\n",
      "\n",
      "z = np.arange(0,50., .01)\n",
      "\n",
      "fig, axes = StellarWindShock.setup_plot()\n",
      "     \n",
      "for v,c,l in zip([2e7,4e7,6e7, 10e7], 'rgbk', ['solid', 'dashed', 'dashdot', 'dotted'] ):\n",
      "    \n",
      "    ode = StellarWindShock(p_fiducial, v, mdot_fiducial)\n",
      "    ode.solve(omega_fiducial, z)\n",
      "    ode.plot_params(axes, label='$v_{{\\\\infty}}={0:3.0f}$ km/s'.format(v/1e5), \n",
      "                    bins=np.arange(0,5.51,.5), color=c, linestyle=l, linewidth=2)\n",
      "\n",
      "#axes[1].plot(np.sqrt(ode.R0(ode.z)**2 - ode.z**2), ode.z, 'k', label='maximum radius')\n",
      "axes[3].set_ylim([0, None])\n",
      "axes[0].legend(prop={'size':'medium'}, labelspacing=0.2)\n",
      "axes[2].set_xlim([0,1000])\n",
      "axes[0].set_ylim([0,52])\n",
      "axes[0].set_xlim([3e-6, 3e-3])\n",
      "set_aspect_equal(axes[1])\n",
      "\n",
      "fig.savefig(plotdir + 'v_infty/v_infty.png', dpi=600)\n",
      "fig.savefig(plotdir + 'v_infty/v_infty.eps')"
     ],
     "language": "python",
     "metadata": {},
     "outputs": []
    },
    {
     "cell_type": "code",
     "collapsed": false,
     "input": [
      "def mdotlatex(value):\n",
      "    '''Format number to nice string in LaTeX'''\n",
      "    latex_value = \"{0:1.0g}\".format(value)\n",
      "    if \"e\" in latex_value:\n",
      "        s = latex_value.split('e')\n",
      "        if s[0] == '1':\n",
      "            return '10^{{{0}{1}}}'.format(s[1][0], s[1][1:].lstrip('0'))\n",
      "        else:\n",
      "            return '{0}\\\\times 10^{{{1}{2}}}'.format(s[0], s[1][0], s[1][1:].lstrip('0'))\n",
      "\n",
      "\n",
      "z = np.arange(0,1500., .01)\n",
      "\n",
      "fig, axes = StellarWindShock.setup_plot()\n",
      "     \n",
      "for m,c,l in zip([6.3376e16,6.3376e17, 6.3376e18], 'rgbk', ['solid', 'dashed', 'dashdot', 'dotted'] ):\n",
      "    \n",
      "    ode = StellarWindShock(p_fiducial, v_fiducial, m)\n",
      "    ode.solve(omega_fiducial, z)\n",
      "    ode.plot_params(axes, label='$\\dot M={0} M_{{\\\\odot}}$/yr'.format(mdotlatex(ode.m_dot_sun_yr)),\n",
      "                    bins=np.arange(0,3.,.25), color=c, linestyle=l, linewidth=2)\n",
      "    print ode.m_dot_sun_yr\n",
      "\n",
      "#axes[1].plot(np.sqrt(ode.R0(ode.z)**2 - ode.z**2), ode.z, 'k', label='maximum radius')\n",
      "axes[3].set_ylim([0, None])\n",
      "axes[0].legend(prop={'size':'small'}, labelspacing=.1)\n",
      "axes[0].set_xlim([3e-6,3e-3])\n",
      "axes[2].set_xlim([0,None])\n",
      "axes[0].set_ylim([0,52])\n",
      "\n",
      "set_aspect_equal(axes[1])\n",
      "fig.savefig(plotdir + 'dot_m/dot_m.png', dpi=600)\n",
      "fig.savefig(plotdir + 'dot_m/dot_m.eps')"
     ],
     "language": "python",
     "metadata": {},
     "outputs": []
    },
    {
     "cell_type": "code",
     "collapsed": false,
     "input": [
      "def Tlatex(value):\n",
      "    '''Format number ato nice string in LaTeX'''\n",
      "    latex_value = \"{0:1.0g}\".format(value)\n",
      "    if \"e\" in latex_value:\n",
      "        s = latex_value.split('e')\n",
      "        latex_value = '{0}\\\\times 10^{{{1}}}'.format(s[0], s[1][1:].lstrip('0'))\n",
      "    return latex_value\n",
      "\n",
      "z = np.arange(0,50., .01)\n",
      "\n",
      "fig, axes = StellarWindShock.setup_plot()\n",
      "\n",
      "for T,c,l in zip([0, 1e5,1e6], 'rgbk', ['solid', 'dashed', 'dashdot', 'dotted'] ):\n",
      "    \n",
      "    ode = HotStellarWindShock(p_fiducial, v_fiducial, mdot_fiducial, T)\n",
      "    ode.solve(3., z)\n",
      "    ode.plot_params(axes, label='$T_0 = {0}$ K'.format(Tlatex(T)), \n",
      "                    bins=np.arange(0,3.,.25), color=c, linestyle=l, linewidth=2)\n",
      "\n",
      "axes[3].set_ylim([0, None])\n",
      "axes[0].legend(prop={'size':'medium'})\n",
      "axes[2].set_xlim([0,None])\n",
      "axes[0].set_ylim([0,44])\n",
      "axes[0].set_xlim([3e-6,3e-3])\n",
      "\n",
      "set_aspect_equal(axes[1])\n",
      "\n",
      "fig.savefig(plotdir + 'T_0/T_0.png', dpi=600)\n",
      "fig.savefig(plotdir + 'T_0/T_0.eps')"
     ],
     "language": "python",
     "metadata": {},
     "outputs": []
    },
    {
     "cell_type": "heading",
     "level": 2,
     "metadata": {},
     "source": [
      "Results"
     ]
    },
    {
     "cell_type": "code",
     "collapsed": false,
     "input": [
      "z = np.arange(0,50., .01)\n",
      "\n",
      "fig, axes = StellarWindShock.setup_plot()\n",
      "\n",
      "# Put some output values in a list, so I can use them for plotting again in the next cell.\n",
      "output=[]\n",
      "def outdict(ode):\n",
      "    return {'rho': ode.stellar_wind_density(ode.res, ode.z),\n",
      "               'vshock': ode.v_shock,\n",
      "               'z': ode.z,\n",
      "               'massflux': ode.massflux,\n",
      "               'm_dot_sun_yr': ode.m_dot_sun_yr,\n",
      "               'L_X': ode.L_X}\n",
      "\n",
      "ode = StellarWindShock(p_fiducial, v_fiducial, mdot_fiducial)\n",
      "ode.solve(omega_fiducial, z)\n",
      "ode.plot_params(axes, label='fiducial', bins=np.arange(0,6.,.5), color='r',\n",
      "                linestyle='solid',linewidth=2)\n",
      "\n",
      "ind = ode.z > 5\n",
      "axes[-1].hist(ode.T_postshock[ind]/1e6, weights=ode.massflux[ind]/ode.massflux.sum(), \n",
      "              bins=np.arange(0,4.51,.5), color='r', linewidth=0)\n",
      "\n",
      "output.append(outdict(ode))\n",
      "\n",
      "ode = StellarWindShock(p_fiducial, 8e7, mdot_fiducial)\n",
      "ode.solve(omega_fiducial, z)\n",
      "ode.plot_params(axes, label=r'high $v_{{\\infty}}$', bins=np.arange(0,6.,.5),\n",
      "                color='g', linestyle='dashed', linewidth=2)\n",
      "output.append(outdict(ode))\n",
      "\n",
      "pexp = ExpPres(1e-6, 5, p_inf = 1e-8)\n",
      "ode = StellarWindShock(pexp, v_fiducial, 4e15)\n",
      "ode.solve(omega_fiducial, z)\n",
      "ode.plot_params(axes, label=r'low $\\dot M$'+'\\nlow $P$', bins=np.arange(0,6.,.5),\n",
      "                color='b', linestyle='dashdot', linewidth=2)\n",
      "print ode.m_dot_sun_yr\n",
      "output.append(outdict(ode))\n",
      "\n",
      "pexp = ExpPres(1e-4, 2., 1e-5)\n",
      "ode = StellarWindShock(pexp, v_fiducial, mdot_fiducial)\n",
      "ode.solve(omega_fiducial, z)\n",
      "ode.plot_params(axes, label='shallow $P$', bins=np.arange(0,6.,.5), color='k',\n",
      "                linestyle='dotted', linewidth=2)\n",
      "output.append(outdict(ode))\n",
      "\n",
      "axes[3].set_ylim([0, None])\n",
      "axes[1].legend(prop={'size':'medium'})\n",
      "axes[2].set_xlim([0,None])\n",
      "axes[0].set_ylim([0,43])\n",
      "axes[0].set_xlim([7e-9,5e-3])\n",
      "\n",
      "set_aspect_equal(axes[1])\n",
      "\n",
      "fig.savefig(plotdir + 'result/result.png', dpi=600)\n",
      "fig.savefig(plotdir + 'result/result.eps')"
     ],
     "language": "python",
     "metadata": {},
     "outputs": []
    },
    {
     "cell_type": "code",
     "collapsed": false,
     "input": [
      "fig = plt.figure(figsize=(5, 2.5))\n",
      "ax1 = fig.add_axes([.15,.25,.4,.7])\n",
      "ax2 = fig.add_axes([.55,.25,.4,.7], sharey=ax1)\n",
      "\n",
      "\n",
      "for model,c,l, lab in zip(output, 'rgbk', ['solid', 'dashed', 'dashdot', 'dotted'],\n",
      "            ['fiducial', r'high $v_{{\\infty}}$', r'low $\\dot M$, low $P$', 'shallow $P$']):\n",
      "    ax1.plot(model['rho']/ode.mu/ode.m_H, model['z'], color=c, linestyle=l, linewidth=2, \n",
      "             label=lab)\n",
      "    # Formula for cooling distance from \n",
      "    # Raga et al. (2002), ApJ, 576, L149\n",
      "    ax2.plot(20.9*1e5/(model['rho']/ode.mu/ode.m_H)*(model['vshock']/5e7)**4.5, model['z'],\n",
      "             color=c, linestyle=l, linewidth=2, label=lab)\n",
      "ax1.set_xlim([20,9e5])\n",
      "ax2.set_xlim([.3,1e4])\n",
      "ax1.set_ylim([0,40])\n",
      "ax1.set_xscale('log')\n",
      "ax2.set_xscale('log')\n",
      "plt.setp(ax2.get_yticklabels(), visible=False)\n",
      "ax1.set_ylabel('Height (AU)')\n",
      "ax1.set_xlabel('Pre-shock\\nnumber density (cm$^{-3}$)')\n",
      "ax2.set_xlabel('cooling distance (AU)')\n",
      "ax2.set_xscale('log')\n",
      "ax2.legend(prop={'size':'medium'}, labelspacing=0.1, bbox_to_anchor=(-0.45,0.45), loc='lower left')\n",
      "fig.savefig(plotdir + 'rhocool/rhocool.png', dpi=600)\n",
      "fig.savefig(plotdir + 'rhocool/rhocool.eps')"
     ],
     "language": "python",
     "metadata": {},
     "outputs": []
    },
    {
     "cell_type": "code",
     "collapsed": false,
     "input": [
      "for model in output:\n",
      "    print model['L_X'].sum(), (model['L_X'][model['z'] > 5]).sum()"
     ],
     "language": "python",
     "metadata": {},
     "outputs": []
    },
    {
     "cell_type": "code",
     "collapsed": false,
     "input": [
      "print mdot_fiducial"
     ],
     "language": "python",
     "metadata": {},
     "outputs": []
    },
    {
     "cell_type": "code",
     "collapsed": false,
     "input": [
      "ode = StellarWindShock(ExpPres(5e-5, 2, p_inf = 5e-7), 7.e7 , mdot_fiducial/10.)\n",
      "ode.solve(omega_fiducial, z)\n",
      "fig, axes = StellarWindShock.setup_plot()\n",
      "\n",
      "ode.plot_params(axes, label='check', bins=np.arange(0,6.,.5), color='r',\n",
      "                linestyle='solid',linewidth=2)\n",
      "output.append(outdict(ode))\n",
      "set_aspect_equal(axes[1])"
     ],
     "language": "python",
     "metadata": {},
     "outputs": []
    },
    {
     "cell_type": "code",
     "collapsed": false,
     "input": [
      "ind = ode.z > 5\n",
      "histo =  plt.hist(ode.v_shock[ind]/1e5, bins=[250,350,450,550,650, 750,850],weights=ode.massflux[ind])\n",
      "print ode.L_X[ind].sum()\n",
      "print histo"
     ],
     "language": "python",
     "metadata": {},
     "outputs": []
    },
    {
     "cell_type": "code",
     "collapsed": false,
     "input": [
      "import astropy.units as u\n",
      "import astropy.constants as c\n",
      "\n",
      "def model_mass_flux(v, n, d):\n",
      "    return c.m_p * n * v * 1e20*u.cm**2 * (d/10/u.pc)**2\n",
      "\n",
      "distance = 130*u.pc\n",
      "n = 1e10/u.cm**3\n",
      "\n",
      "for i in range(len(histo)):\n",
      "    print histo[1][i]+50, (histo[0][i]*u.g/u.s / model_mass_flux((histo[1][i]+50)*u.km/u.s, n, distance)).decompose()"
     ],
     "language": "python",
     "metadata": {},
     "outputs": []
    },
    {
     "cell_type": "code",
     "collapsed": false,
     "input": [
      "(histo[1][i]+50)*u.km/u.s, model_mass_flux((histo[1][i]+50)*u.km/u.s, n, distance).cgs"
     ],
     "language": "python",
     "metadata": {},
     "outputs": []
    },
    {
     "cell_type": "heading",
     "level": 3,
     "metadata": {},
     "source": [
      "Appendix: Interpolating $L_X$ of a shock as a function of the pre-shock speed"
     ]
    },
    {
     "cell_type": "code",
     "collapsed": false,
     "input": [
      "import numpy as np\n",
      "import matplotlib.pyplot as plt\n",
      "\n",
      "from astropy.io import fits\n",
      "from astropy.table import Table\n",
      "import astropy.units as u\n",
      "import astropy.constants as c"
     ],
     "language": "python",
     "metadata": {},
     "outputs": []
    },
    {
     "cell_type": "code",
     "collapsed": false,
     "input": [
      "# shock.fits can be downloaded from \n",
      "# http://thedata.harvard.edu/dvn/faces/study/StudyPage.xhtml?studyId=88638&tab=files\n",
      "spectra = Table.read('shocks.fits', hdu='SPECTRA')\n",
      "energies = Table.read('shocks.fits', hdu='ENERGIES')"
     ],
     "language": "python",
     "metadata": {},
     "outputs": []
    },
    {
     "cell_type": "code",
     "collapsed": false,
     "input": [
      "spec_allelements = np.zeros((len(spectra), len(spectra['INTPSPEC'][0])))\n",
      "for col in list(spectra.columns[1:]):\n",
      "    spec_allelements +=spectra[col]\n",
      "x_ray_flux = (((spec_allelements/u.cm**2/u.s * energies['ENERG_HI'] * u.keV).sum(axis=1) \n",
      "             * 4* np.pi* (10.*u.pc)**2).to(u.erg/u.s) / (1e20*u.cm**2))\n",
      "\n",
      "n = spectra['PARAMVAL'][:,1] * u.cm**(-3)\n",
      "v = spectra['PARAMVAL'][:,0] * u.km/u.s\n",
      "dotE_kin = 0.5 * v**2 * (v*n* c.m_p)\n",
      "\n",
      "xfrac = (x_ray_flux / dotE_kin).decompose()"
     ],
     "language": "python",
     "metadata": {},
     "outputs": []
    },
    {
     "cell_type": "code",
     "collapsed": false,
     "input": [
      "contours = plt.contour(np.log10(n[:5].value), v[::5].value, xfrac.reshape(8,5))\n",
      "plt.clabel(contours)\n",
      "plt.title('Fraction of kinetic energy radiated in X-rays')\n",
      "plt.ylabel('pre-shock velocity [km/s]')\n",
      "plt.xlabel('log pre-shock density [cm$^{-3}$]')"
     ],
     "language": "python",
     "metadata": {},
     "outputs": []
    },
    {
     "cell_type": "markdown",
     "metadata": {},
     "source": [
      "For a wide range of densities and pre-shock velocities the total fraction of the kinetic energy htat is radiated away in the X-rays is actually independent of the density. I (Moritz Gunther) have tested that with simulations for densities down to $10^4$ or so, but I did not calculate a complete grid and I did not include those spectra in the XSPEC file that I use here for plotting. Where there is some dependency, it comes from density-densitive lines, that are only present for certain ranges of pre-shock densities. \n",
      "\n",
      "With this knowlegde, we will now pick one density and fit an interpolation formula."
     ]
    },
    {
     "cell_type": "code",
     "collapsed": false,
     "input": [
      "fig = plt.figure(figsize=(4,3))\n",
      "ax = fig.add_subplot(111)\n",
      "ax.plot(v[0::5].value, xfrac[1::5].value)\n",
      "ax.set_xlabel('pre-shock velocity [km s$^{-1}$]')\n",
      "ax.set_ylabel('Fraction of kinetic energy\\nradiated in X-rays')\n",
      "\n",
      "fig.subplots_adjust(left=0.17, bottom=0.15, right=.95, top=.97)\n",
      "fig.savefig(plotdir + 'fracxray/fracxray.png', dpi=600)\n",
      "fig.savefig(plotdir + 'fracxray/fracxray.eps')"
     ],
     "language": "python",
     "metadata": {},
     "outputs": []
    },
    {
     "cell_type": "code",
     "collapsed": false,
     "input": [
      "print v[1::5]\n",
      "print xfrac[1::5]"
     ],
     "language": "python",
     "metadata": {},
     "outputs": []
    },
    {
     "cell_type": "markdown",
     "metadata": {},
     "source": [
      "These value are used above to initialze an interpolation function that gives the fraction of the total kinetic energy (pre-shock) that will be radiated in X-rays (0.3-3 keV). They are copied by hand into the cell above to make sure that the main part of this notebook does not depend on any additional files."
     ]
    },
    {
     "cell_type": "code",
     "collapsed": false,
     "input": [
      "(((1000*u.Gauss)**2 / 8 / np.pi)*(c.R_sun/(10*u.AU))**4).to(u.Gauss**2)"
     ],
     "language": "python",
     "metadata": {},
     "outputs": []
    },
    {
     "cell_type": "code",
     "collapsed": false,
     "input": [
      "(ode.m_dot*u.g/u.s/(4.*np.pi*(100.*u.AU)**2)* (500*u.km/u.s)).to(u.Ba)"
     ],
     "language": "python",
     "metadata": {},
     "outputs": []
    },
    {
     "cell_type": "code",
     "collapsed": false,
     "input": [
      "x = np.arange(0,5,0.1)\n",
      "\n",
      "plt.plot(x, (((1000*u.Gauss)**2 / 8. / np.pi)*(c.R_sun/(x*u.AU))**4).to(u.Gauss**2).value, label='$P_{mag}$')\n",
      "plt.plot(x, (mdot_fiducial*u.g/u.s/(4.*np.pi*(x*u.AU)**2)* (v_fiducial*u.cm/u.s)).to(u.Ba).value, label='$P_{ram}$')\n",
      "plt.yscale('log')\n",
      "plt.xlabel('radial distance [AU]')\n",
      "plt.legend(loc='upper right')\n",
      "plt.ylabel('Pressure [Ba]')"
     ],
     "language": "python",
     "metadata": {},
     "outputs": []
    }
   ],
   "metadata": {}
  }
 ]
}